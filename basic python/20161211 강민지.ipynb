{
 "cells": [
  {
   "cell_type": "code",
   "execution_count": null,
   "metadata": {},
   "outputs": [],
   "source": [
    "20161211 강민지"
   ]
  },
  {
   "cell_type": "code",
   "execution_count": 12,
   "metadata": {},
   "outputs": [
    {
     "data": {
      "text/plain": [
       "'210413'"
      ]
     },
     "execution_count": 12,
     "metadata": {},
     "output_type": "execute_result"
    }
   ],
   "source": [
    "##1\n",
    "date_time = \"2021-04-13 07:22:00\"\n",
    "resid_num = date_time[2:4]+date_time[5:7]+date_time[8:10]\n",
    "resid_num"
   ]
  },
  {
   "cell_type": "code",
   "execution_count": null,
   "metadata": {},
   "outputs": [],
   "source": []
  },
  {
   "cell_type": "code",
   "execution_count": 12,
   "metadata": {},
   "outputs": [
    {
     "name": "stdout",
     "output_type": "stream",
     "text": [
      "홍길동의 나이는 20 세입니다.\n"
     ]
    }
   ],
   "source": [
    "##2\n",
    "name = \"홍길동\" \n",
    "age = 20\n",
    "print(name+\"의 나이는\", str(age), \"세입니다.\")\n",
    "#오류1: print\n",
    "#오류2: str()"
   ]
  },
  {
   "cell_type": "code",
   "execution_count": null,
   "metadata": {},
   "outputs": [],
   "source": []
  },
  {
   "cell_type": "code",
   "execution_count": 45,
   "metadata": {},
   "outputs": [
    {
     "name": "stdout",
     "output_type": "stream",
     "text": [
      "구구단 몇 단을 계산할까?\n",
      "8\n",
      "구구단 8 단을 계산한다\n",
      "8\n",
      "16\n",
      "24\n",
      "32\n",
      "40\n",
      "48\n",
      "56\n",
      "64\n",
      "72\n"
     ]
    }
   ],
   "source": [
    "##3\n",
    "print(\"구구단 몇 단을 계산할까?\")\n",
    "user_input = input()\n",
    "print(\"구구단\",user_input, \"단을 계산한다\")\n",
    "int_input=int(user_input)\n",
    "for i in range(1,10):\n",
    "    result = int_input * i\n",
    "    print(result)"
   ]
  },
  {
   "cell_type": "code",
   "execution_count": 2,
   "metadata": {},
   "outputs": [
    {
     "name": "stdout",
     "output_type": "stream",
     "text": [
      "구구단 몇 단을 계산할까?8\n"
     ]
    },
    {
     "data": {
      "text/plain": [
       "[8, 16, 24, 32, 40, 48, 56, 64, 72]"
      ]
     },
     "execution_count": 2,
     "metadata": {},
     "output_type": "execute_result"
    }
   ],
   "source": [
    "user_input = input(\"구구단 몇 단을 계산할까?\")\n",
    "result = [0,0,0,0,0,0,0,0,0]\n",
    "for i in range(9):\n",
    "    result[i] = int(user_input) * (i+1)\n",
    "result"
   ]
  },
  {
   "cell_type": "markdown",
   "metadata": {},
   "source": [
    "result 9개, \n",
    "range 9개, \n",
    "i가 0부터시작한다는 것, \n",
    "int()는 정수로 바꿔준다는것,\n",
    "for 문장에는 range가 들어감.\n",
    "\n",
    "\n",
    "결과단어 = [개수에 맞는 빈칸]\n",
    "for i in range():\n",
    "    계산\n",
    "결과단어"
   ]
  },
  {
   "cell_type": "code",
   "execution_count": 49,
   "metadata": {},
   "outputs": [
    {
     "ename": "IndentationError",
     "evalue": "expected an indented block (<ipython-input-49-8153f048a347>, line 6)",
     "output_type": "error",
     "traceback": [
      "\u001b[1;36m  File \u001b[1;32m\"<ipython-input-49-8153f048a347>\"\u001b[1;36m, line \u001b[1;32m6\u001b[0m\n\u001b[1;33m    if 90 <= score <= 100:\u001b[0m\n\u001b[1;37m    ^\u001b[0m\n\u001b[1;31mIndentationError\u001b[0m\u001b[1;31m:\u001b[0m expected an indented block\n"
     ]
    }
   ],
   "source": [
    "### 점수\n",
    "score = [90, 45, 61, 86, 79, 98, 30, 59, 81, 77]\n",
    "### 학점\n",
    "grade = [\"A\",\"F\",\"D\",\"B\",\"C\",\"A\",\"F\",\"F\",\"B\",\"C\"]\n",
    "for score in student:\n",
    "if 90 <= score <= 100:\n",
    "grade[i] ='A'\n",
    " elif 80 < score <= 90:\n",
    "grade[i] ='B'\n",
    " elif 70 < score <= 80:\n",
    "grade[i] ='C'\n",
    " elif 60 < score <= 70:\n",
    "grade[i] ='D'\n",
    " elif 60 > score:\n",
    "grade[i] ='F'\n",
    "\n",
    "grade"
   ]
  },
  {
   "cell_type": "code",
   "execution_count": 3,
   "metadata": {},
   "outputs": [
    {
     "data": {
      "text/plain": [
       "['A', 'F', 'D', 'B', 'C', 'A', 'F', 'F', 'B', 'C']"
      ]
     },
     "execution_count": 3,
     "metadata": {},
     "output_type": "execute_result"
    }
   ],
   "source": [
    "### 점수\n",
    "score = [90, 45, 61, 86, 79, 98, 30, 59, 81, 77]\n",
    "### 학점\n",
    "grade = [\"\",\"\",\"\",\"\",\"\",\"\",\"\",\"\",\"\",\"\"]\n",
    "for i in range(10):\n",
    "    if score[i]>=90:\n",
    "        grade[i] = 'A'\n",
    "    elif score[i]>=80:\n",
    "        grade[i] = 'B'\n",
    "    elif score[i]>=70:\n",
    "        grade[i] = 'C'\n",
    "    elif score[i]>=60:\n",
    "        grade[i] = 'D'\n",
    "    elif score[i]>=0:\n",
    "        grade[i] = 'F'\n",
    "grade"
   ]
  },
  {
   "cell_type": "code",
   "execution_count": 11,
   "metadata": {},
   "outputs": [
    {
     "data": {
      "text/plain": [
       "['F', 'F', 'B', 'A', 'F', 'C', 'C', 'B', 'B', 'A']"
      ]
     },
     "execution_count": 11,
     "metadata": {},
     "output_type": "execute_result"
    }
   ],
   "source": [
    "def fn_grade(score):\n",
    " ### 학점\n",
    "    grade = [\"\",\"\",\"\",\"\",\"\",\"\",\"\",\"\",\"\",\"\"]\n",
    "    for i in range(10):\n",
    "        if score[i]>=90:\n",
    "            grade[i] = 'A'\n",
    "        elif score[i]>=80:\n",
    "            grade[i] = 'B'\n",
    "        elif score[i]>=70:\n",
    "            grade[i] = 'C'\n",
    "        elif score[i]>=60:\n",
    "            grade[i] = 'D'\n",
    "        elif score[i]>=0:\n",
    "            grade[i] = 'F'\n",
    "    return grade\n",
    "\n",
    "score = [20, 45, 81, 96, 39, 78, 70, 89, 81, 100]\n",
    "fn_grade(score)"
   ]
  },
  {
   "cell_type": "code",
   "execution_count": null,
   "metadata": {},
   "outputs": [],
   "source": []
  },
  {
   "cell_type": "code",
   "execution_count": null,
   "metadata": {},
   "outputs": [],
   "source": []
  },
  {
   "cell_type": "code",
   "execution_count": null,
   "metadata": {},
   "outputs": [],
   "source": []
  }
 ],
 "metadata": {
  "kernelspec": {
   "display_name": "Python 3",
   "language": "python",
   "name": "python3"
  },
  "language_info": {
   "codemirror_mode": {
    "name": "ipython",
    "version": 3
   },
   "file_extension": ".py",
   "mimetype": "text/x-python",
   "name": "python",
   "nbconvert_exporter": "python",
   "pygments_lexer": "ipython3",
   "version": "3.8.5"
  }
 },
 "nbformat": 4,
 "nbformat_minor": 4
}
