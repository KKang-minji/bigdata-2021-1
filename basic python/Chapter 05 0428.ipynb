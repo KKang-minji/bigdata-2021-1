{
 "cells": [
  {
   "cell_type": "code",
   "execution_count": 3,
   "metadata": {},
   "outputs": [],
   "source": [
    "####5-4 code\n",
    "def a_rectangle_area(): #매개변수x, 반환값o\n",
    "    print(5*7)\n",
    "def b_rectangle_area(x,y): #매개변수o, 반환값x\n",
    "    print(x*y)\n",
    "def c_rectangle_area(): #매개변수x, 반환값o\n",
    "    return(5*7)\n",
    "def d_rectangle_area(x,y): #매개변수o, 반환값o\n",
    "    return(x*y)\n",
    "\n"
   ]
  },
  {
   "cell_type": "code",
   "execution_count": 4,
   "metadata": {},
   "outputs": [
    {
     "name": "stdout",
     "output_type": "stream",
     "text": [
      "35\n",
      "35\n",
      "35\n",
      "35\n"
     ]
    }
   ],
   "source": [
    "a_rectangle_area()\n",
    "b_rectangle_area(5,7)\n",
    "print(c_rectangle_area())\n",
    "print(d_rectangle_area(5,7))"
   ]
  },
  {
   "cell_type": "code",
   "execution_count": 5,
   "metadata": {},
   "outputs": [
    {
     "name": "stdout",
     "output_type": "stream",
     "text": [
      "9\n",
      "3\n"
     ]
    }
   ],
   "source": [
    "#5-5\n",
    "def f(x):\n",
    "    y=x\n",
    "    x=5\n",
    "    return y*y\n",
    "\n",
    "x=3\n",
    "print(f(x))\n",
    "print(x)"
   ]
  },
  {
   "cell_type": "code",
   "execution_count": 6,
   "metadata": {},
   "outputs": [
    {
     "name": "stdout",
     "output_type": "stream",
     "text": [
      "[0, 1]\n"
     ]
    }
   ],
   "source": [
    "#5-6\n",
    "def spam(eggs):\n",
    "    eggs.append(1)\n",
    "    \n",
    "    eggs=[2,3]\n",
    "ham=[0]\n",
    "spam(ham)\n",
    "print(ham)"
   ]
  },
  {
   "cell_type": "code",
   "execution_count": 7,
   "metadata": {},
   "outputs": [
    {
     "name": "stdout",
     "output_type": "stream",
     "text": [
      "10\n",
      "In Function: 20\n",
      "In Main 10\n"
     ]
    },
    {
     "ename": "NameError",
     "evalue": "name 't' is not defined",
     "output_type": "error",
     "traceback": [
      "\u001b[1;31m---------------------------------------------------------------------------\u001b[0m",
      "\u001b[1;31mNameError\u001b[0m                                 Traceback (most recent call last)",
      "\u001b[1;32m<ipython-input-7-318c3bd467e8>\u001b[0m in \u001b[0;36m<module>\u001b[1;34m\u001b[0m\n\u001b[0;32m      8\u001b[0m \u001b[0mtest\u001b[0m\u001b[1;33m(\u001b[0m\u001b[0mx\u001b[0m\u001b[1;33m)\u001b[0m\u001b[1;33m\u001b[0m\u001b[1;33m\u001b[0m\u001b[0m\n\u001b[0;32m      9\u001b[0m \u001b[0mprint\u001b[0m\u001b[1;33m(\u001b[0m\u001b[1;34m\"In Main\"\u001b[0m\u001b[1;33m,\u001b[0m\u001b[0mx\u001b[0m\u001b[1;33m)\u001b[0m\u001b[1;33m\u001b[0m\u001b[1;33m\u001b[0m\u001b[0m\n\u001b[1;32m---> 10\u001b[1;33m \u001b[0mprint\u001b[0m\u001b[1;33m(\u001b[0m\u001b[1;34m\"In Main\"\u001b[0m\u001b[1;33m,\u001b[0m\u001b[0mt\u001b[0m\u001b[1;33m)\u001b[0m\u001b[1;33m\u001b[0m\u001b[1;33m\u001b[0m\u001b[0m\n\u001b[0m",
      "\u001b[1;31mNameError\u001b[0m: name 't' is not defined"
     ]
    }
   ],
   "source": [
    "#5-7\n",
    "def test(t):\n",
    "    print(x)  #전역 변수 (global variable ) : main에서 만듦. 프로그램 전체에서 사용  #함수 내에서 사용가능\n",
    "    t=20      ##지역변수는 함수 안에서 생성, 함수안에서만 사용가능 \n",
    "    print(\"In Function:\",t)\n",
    "\n",
    "x=10\n",
    "test(x)\n",
    "print(\"In Main\",x)\n",
    "print(\"In Main\",t) #error   #지역변수는 함수 안에서만 사용가능 그래서 main으로 못가져옴"
   ]
  },
  {
   "cell_type": "code",
   "execution_count": 8,
   "metadata": {},
   "outputs": [
    {
     "name": "stdout",
     "output_type": "stream",
     "text": [
      "I love London!\n",
      "I love Paris!\n"
     ]
    }
   ],
   "source": [
    "#5-8\n",
    "def f():\n",
    "    s = \"I love London!\"#지역변수 #함수 내에서 생성\n",
    "    print(s)\n",
    "    \n",
    "s = \"I love Paris!\" #전역변수   #main\n",
    "f()                             #main\n",
    "print(s)                        #main\n",
    "#다른애니까 영향 못줌"
   ]
  },
  {
   "cell_type": "code",
   "execution_count": 9,
   "metadata": {
    "scrolled": true
   },
   "outputs": [
    {
     "name": "stdout",
     "output_type": "stream",
     "text": [
      "I love London!\n",
      "I love London!\n"
     ]
    }
   ],
   "source": [
    "#5-9\n",
    "def f():\n",
    "    global s                  #변수만들건데 이건 전역변수야 라고 알려주는것\n",
    "                              #원래는 함수 안에서 생성될 변수인데 main에서 생성 \n",
    "                              #없었다면 함수안에서 s=\"L\"생성\n",
    "    s = \"I love London!\"      #main공간에 만들어짐 #전역변수   #새로운 값 저장\n",
    "    print(s)\n",
    "    \n",
    "s = \"I love Paris!\" #전역변수   #main\n",
    "f()                             #main\n",
    "print(s)               "
   ]
  },
  {
   "cell_type": "markdown",
   "metadata": {},
   "source": [
    "키워드 인수: def f(x):\n",
    "디폴트 인수: 기본값(내가 아무것도 입력하지않았을때 초기값은 0이라고 지정)\n",
    "가변인수: 함수의 인터페이스에 지정된 변수 이외의 추가변수를 함수에 입력할 수 있게 지원하는 방법\n",
    "키워드 가변인수: 매개 변수의 이름을 따로 지정하지 않고 입력하는 방법    "
   ]
  },
  {
   "cell_type": "code",
   "execution_count": 11,
   "metadata": {},
   "outputs": [
    {
     "name": "stdout",
     "output_type": "stream",
     "text": [
      "Hello TEAMLAB, My name is Sungchul\n",
      "Hello TEAMLAB, My name is Sungchul\n"
     ]
    }
   ],
   "source": [
    "#5-12\n",
    "#키워드 인수\n",
    "def print_something(my_name, your_name):\n",
    "    print(\"Hello {0}, My name is {1}\".format(your_name, my_name))\n",
    "    \n",
    "print_something(\"Sungchul\",\"TEAMLAB\")  #순서가 같아야함\n",
    "print_something(your_name=\"TEAMLAB\", my_name= \"Sungchul\") #이렇게 지정해주면 순서가 달라도 됨\n"
   ]
  },
  {
   "cell_type": "code",
   "execution_count": 12,
   "metadata": {},
   "outputs": [
    {
     "name": "stdout",
     "output_type": "stream",
     "text": [
      "Hello TEAMLAB, My name is Sungchul\n",
      "Hello TEAMLAB, My name is Sungchul\n"
     ]
    }
   ],
   "source": [
    "#5-13\n",
    "#디폴트인수\n",
    "def print_something_2(my_name, your_name=\"TEAMLAB\"):   #키워드 인수, 디폴트인수\n",
    "                                                        #디폴트 인수를 생성할때 앞에 키워드가 먼저와야함\n",
    "        print(\"Hello {0}, My name is {1}\".format(your_name, my_name))\n",
    "        \n",
    "print_something_2(\"Sungchul\",\"TEAMLAB\")\n",
    "print_something_2(\"Sungchul\")"
   ]
  },
  {
   "cell_type": "code",
   "execution_count": 14,
   "metadata": {},
   "outputs": [
    {
     "name": "stdout",
     "output_type": "stream",
     "text": [
      "15\n"
     ]
    }
   ],
   "source": [
    "#5-14\n",
    "#가변인수\n",
    "def asterisk_test(a,b, *args):      #a,b는 키워드 인수  #가변인수앞 *: 여러개 들어갈 수 있다.\n",
    "    return a+b+sum(args)            #a,b는 무조건 들어와야함. args는 들어와도 되고 안들어와도됨\n",
    "\n",
    "print(asterisk_test(1,2,3,4,5))     #3,4,5는 가변인수"
   ]
  },
  {
   "cell_type": "code",
   "execution_count": null,
   "metadata": {},
   "outputs": [],
   "source": []
  },
  {
   "cell_type": "code",
   "execution_count": null,
   "metadata": {},
   "outputs": [],
   "source": []
  },
  {
   "cell_type": "code",
   "execution_count": null,
   "metadata": {},
   "outputs": [],
   "source": []
  },
  {
   "cell_type": "code",
   "execution_count": null,
   "metadata": {},
   "outputs": [],
   "source": []
  }
 ],
 "metadata": {
  "kernelspec": {
   "display_name": "Python 3",
   "language": "python",
   "name": "python3"
  },
  "language_info": {
   "codemirror_mode": {
    "name": "ipython",
    "version": 3
   },
   "file_extension": ".py",
   "mimetype": "text/x-python",
   "name": "python",
   "nbconvert_exporter": "python",
   "pygments_lexer": "ipython3",
   "version": "3.8.5"
  }
 },
 "nbformat": 4,
 "nbformat_minor": 4
}
