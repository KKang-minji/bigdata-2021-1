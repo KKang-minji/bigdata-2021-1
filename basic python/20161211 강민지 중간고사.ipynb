{
 "cells": [
  {
   "cell_type": "markdown",
   "metadata": {},
   "source": [
    "# 20161211 강민지 중간고사"
   ]
  },
  {
   "cell_type": "markdown",
   "metadata": {},
   "source": [
    "1. OMR 판독기는 카드에 marking 된 값을 위치로 구분하여 하나의 문자열로 기록한다. 주어진 문자열의 앞 8자리는 학번, 다음 각 1자리씩 marking 된 값을 의미한다. 학번과 3개의 응답을 리스트로 저장하는 코드를 작성하시오."
   ]
  },
  {
   "cell_type": "code",
   "execution_count": 68,
   "metadata": {},
   "outputs": [
    {
     "data": {
      "text/plain": [
       "('20210421', '5', '1', '3')"
      ]
     },
     "execution_count": 68,
     "metadata": {},
     "output_type": "execute_result"
    }
   ],
   "source": [
    "##1\n",
    "###OMR\n",
    "omr_str = '20210421513'\n",
    "omr_list = omr_str[0:8],omr_str[8],omr_str[9],omr_str[10]\n",
    "omr_list"
   ]
  },
  {
   "cell_type": "markdown",
   "metadata": {},
   "source": [
    "2. 리스트의 추가 및 삭제 함수를 이용하여 리스트의 값 또는 인덱스를 변경하시오.\n",
    "▸리스트의 추가 및 삭제 함수: append(), extend(), insert(), remove(), del"
   ]
  },
  {
   "cell_type": "code",
   "execution_count": 21,
   "metadata": {},
   "outputs": [
    {
     "data": {
      "text/plain": [
       "['blue', 'orange', 'green', 'skyblue']"
      ]
     },
     "execution_count": 21,
     "metadata": {},
     "output_type": "execute_result"
    }
   ],
   "source": [
    "##2\n",
    "color = ['red','blue','green']\n",
    "color.extend(['skyblue'])\n",
    "color.remove('red')\n",
    "color.insert(1,'orange')\n",
    "color"
   ]
  },
  {
   "cell_type": "markdown",
   "metadata": {},
   "source": [
    "3. 함수   와  를 생성하고, 주어진 연산을 수행하는 코드를 작성하시오."
   ]
  },
  {
   "cell_type": "code",
   "execution_count": 38,
   "metadata": {},
   "outputs": [
    {
     "name": "stdout",
     "output_type": "stream",
     "text": [
      "72.00719424460432\n"
     ]
    }
   ],
   "source": [
    "##3\n",
    "def f(x):\n",
    "    return 2*x**2 - 4\n",
    "def g(x):\n",
    "    return 2/3*x +1\n",
    "x=6\n",
    "print(f(x)+g(x)- f(g(x))/g(f(x)))"
   ]
  },
  {
   "cell_type": "markdown",
   "metadata": {},
   "source": [
    "4. 주어진 리스의 값에 대한 누적합을 계산하는 코드를 작성하시오. (만약 리스트에 값이 없다면 0으로 계\n",
    "산함)"
   ]
  },
  {
   "cell_type": "code",
   "execution_count": 70,
   "metadata": {
    "scrolled": true
   },
   "outputs": [
    {
     "data": {
      "text/plain": [
       "[30]"
      ]
     },
     "execution_count": 70,
     "metadata": {},
     "output_type": "execute_result"
    }
   ],
   "source": [
    "##4\n",
    "x = [3,5,7,4,2,3,6]\n",
    "result = [0]\n",
    "for i in range(1):\n",
    "    result[i] = sum(x)\n",
    "result"
   ]
  },
  {
   "cell_type": "markdown",
   "metadata": {},
   "source": [
    "5. 주어진 코드에서 발생한 오류(error)의 이유를 설명하고, 올바른 결과값이 나오도록 코드를 수정하시오."
   ]
  },
  {
   "cell_type": "code",
   "execution_count": 54,
   "metadata": {},
   "outputs": [
    {
     "name": "stdout",
     "output_type": "stream",
     "text": [
      "자연수를 입력하세요.9\n",
      "9 / 2의 몫은 4 이고, 나머지는 1 이다.\n"
     ]
    }
   ],
   "source": [
    "##5\n",
    "user_input = input(\"자연수를 입력하세요.\")\n",
    "quotient = int(user_input) // 2\n",
    "remainder = int(user_input) % 2\n",
    "print(user_input,\"/ 2의 몫은\", quotient,\"이고, 나머지는\",remainder,\"이다.\")\n",
    "\n",
    "#3,4줄에 int를 넣어줘서 문자를 정수로 변환\n",
    "#대문자와 소문자를 다르게 인식하므로\n",
    "# -> Remainder의 대문자'R'을 소문자'r'로 바꿔 'remainder'기입"
   ]
  },
  {
   "cell_type": "code",
   "execution_count": null,
   "metadata": {},
   "outputs": [],
   "source": []
  }
 ],
 "metadata": {
  "kernelspec": {
   "display_name": "Python 3",
   "language": "python",
   "name": "python3"
  },
  "language_info": {
   "codemirror_mode": {
    "name": "ipython",
    "version": 3
   },
   "file_extension": ".py",
   "mimetype": "text/x-python",
   "name": "python",
   "nbconvert_exporter": "python",
   "pygments_lexer": "ipython3",
   "version": "3.8.5"
  }
 },
 "nbformat": 4,
 "nbformat_minor": 4
}
