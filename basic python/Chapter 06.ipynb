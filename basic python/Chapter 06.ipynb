{
 "cells": [
  {
   "cell_type": "code",
   "execution_count": null,
   "metadata": {},
   "outputs": [],
   "source": [
    "a = \"abcde\""
   ]
  },
  {
   "cell_type": "code",
   "execution_count": 5,
   "metadata": {},
   "outputs": [
    {
     "name": "stdout",
     "output_type": "stream",
     "text": [
      "TEAMLA AND ME PYTHON\n",
      "TEAMLAB MOOC, AWESOME PYTHON\n",
      "TEAMLAB MOOC, AWESOME PYTHON\n",
      "TALBMO,AEOEPTO AND NOHTYP EMOSEWA ,COOM BALMAET\n"
     ]
    }
   ],
   "source": [
    "a = \"TEAMLAB MOOC, AWESOME PYTHON\"\n",
    "print(a[0:6],\"AND\", a[-9:])\n",
    "print(a[:])\n",
    "print(a[-50:50])\n",
    "print(a[::2],\"AND\",a[::-1])"
   ]
  },
  {
   "cell_type": "code",
   "execution_count": null,
   "metadata": {},
   "outputs": [],
   "source": [
    "a=\"TEAM\"\n",
    "'m' in a  #a안의 값들 중 소문자 m을 가지고 잇니?"
   ]
  },
  {
   "cell_type": "code",
   "execution_count": null,
   "metadata": {},
   "outputs": [],
   "source": [
    "a=\"TEAM\"\n",
    "if 'A' in a :\n",
    "    print(a)"
   ]
  },
  {
   "cell_type": "code",
   "execution_count": 7,
   "metadata": {},
   "outputs": [
    {
     "ename": "TypeError",
     "evalue": "can only concatenate str (not \"int\") to str",
     "output_type": "error",
     "traceback": [
      "\u001b[1;31m---------------------------------------------------------------------------\u001b[0m",
      "\u001b[1;31mTypeError\u001b[0m                                 Traceback (most recent call last)",
      "\u001b[1;32m<ipython-input-7-4a12d82a8de4>\u001b[0m in \u001b[0;36m<module>\u001b[1;34m\u001b[0m\n\u001b[0;32m      1\u001b[0m \u001b[0mint_value\u001b[0m \u001b[1;33m=\u001b[0m\u001b[1;36m2\u001b[0m\u001b[1;33m\u001b[0m\u001b[1;33m\u001b[0m\u001b[0m\n\u001b[1;32m----> 2\u001b[1;33m \u001b[0mprint\u001b[0m\u001b[1;33m(\u001b[0m\u001b[1;34m\"결과는\"\u001b[0m\u001b[1;33m+\u001b[0m \u001b[0mint_value\u001b[0m\u001b[1;33m)\u001b[0m  \u001b[1;31m#문자와 숫자는 합칠수없다.\u001b[0m\u001b[1;33m\u001b[0m\u001b[1;33m\u001b[0m\u001b[0m\n\u001b[0m",
      "\u001b[1;31mTypeError\u001b[0m: can only concatenate str (not \"int\") to str"
     ]
    }
   ],
   "source": [
    "#오류\n",
    "\n",
    "int_value =2\n",
    "print(\"결과는\"+ int_value)  \n",
    "#문자와 숫자는 합칠수없다.\n",
    "#+를,로 바꾼다. str()을 사용한다."
   ]
  },
  {
   "cell_type": "code",
   "execution_count": 2,
   "metadata": {},
   "outputs": [
    {
     "name": "stdout",
     "output_type": "stream",
     "text": [
      "TEAMLAB\n",
      "TEAMTEAMLABLAB\n"
     ]
    }
   ],
   "source": [
    "a=\"TEAM\"\n",
    "b=\"LAB\"\n",
    "print(a+\"\"+b)\n",
    "print(a*2+\"\"+b*2)\n",
    "if 'A'in a print"
   ]
  },
  {
   "cell_type": "code",
   "execution_count": 10,
   "metadata": {},
   "outputs": [
    {
     "data": {
      "text/plain": [
       "10"
      ]
     },
     "execution_count": 10,
     "metadata": {},
     "output_type": "execute_result"
    }
   ],
   "source": [
    "a=\" TEAM LAB \"\n",
    "len(a) #문자열에 넣으면 리스트여서 원소가 몇개가 잇는지 알려줌, 문자열 문자 개수 반환"
   ]
  },
  {
   "cell_type": "code",
   "execution_count": 12,
   "metadata": {},
   "outputs": [
    {
     "data": {
      "text/plain": [
       "'TEAM LAB'"
      ]
     },
     "execution_count": 12,
     "metadata": {},
     "output_type": "execute_result"
    }
   ],
   "source": [
    "a = \" TEAM LAB \"\n",
    "a.strip() #공백없이 나옴   #객체에서 제공하는 함수"
   ]
  },
  {
   "cell_type": "code",
   "execution_count": 14,
   "metadata": {},
   "outputs": [
    {
     "data": {
      "text/plain": [
       "'TEAMLAB X Inflearn'"
      ]
     },
     "execution_count": 14,
     "metadata": {},
     "output_type": "execute_result"
    }
   ],
   "source": [
    "title=\"TEAMLAB X Inflearn\"\n",
    "title.upper()  #실제변수값은 같음. 대문자로 바꿔서 출력\n",
    "title   #그냥 출력"
   ]
  },
  {
   "cell_type": "code",
   "execution_count": 16,
   "metadata": {},
   "outputs": [
    {
     "data": {
      "text/plain": [
       "3"
      ]
     },
     "execution_count": 16,
     "metadata": {},
     "output_type": "execute_result"
    }
   ],
   "source": [
    "title=\"TEAMLAB X Inflearn\"\n",
    "title.upper(). count(\"A\") #A라는걸 몇개 가지고잇는가? 대문자, 소문자 상관없음 앞에서 바꿧으므로"
   ]
  },
  {
   "cell_type": "code",
   "execution_count": 18,
   "metadata": {},
   "outputs": [
    {
     "data": {
      "text/plain": [
       "True"
      ]
     },
     "execution_count": 18,
     "metadata": {},
     "output_type": "execute_result"
    }
   ],
   "source": [
    "a = \"213\"\n",
    "a.isdigit()\n",
    "#a가 문제일때만 쓸수잇지 정수일때는 isdigit() 쓸수없음"
   ]
  },
  {
   "cell_type": "code",
   "execution_count": 20,
   "metadata": {},
   "outputs": [
    {
     "data": {
      "text/plain": [
       "\"it's OK.\""
      ]
     },
     "execution_count": 20,
     "metadata": {},
     "output_type": "execute_result"
    }
   ],
   "source": [
    "a =\"it's OK.\"\n",
    "a          #it's 같은거 쓸땐 쌍따옴표 사용"
   ]
  },
  {
   "cell_type": "code",
   "execution_count": 21,
   "metadata": {},
   "outputs": [
    {
     "data": {
      "text/plain": [
       "\"it's OK.\\ni'm Happy\""
      ]
     },
     "execution_count": 21,
     "metadata": {},
     "output_type": "execute_result"
    }
   ],
   "source": [
    "a =\"\"\"it's OK.\n",
    "i'm Happy\"\"\"\n",
    "a          #\"\"\" \"\"\"나 ''' '''를 사용하면 줄바꿈 가능  \\n:엔터사용햇다는뜻"
   ]
  },
  {
   "cell_type": "code",
   "execution_count": null,
   "metadata": {},
   "outputs": [],
   "source": []
  },
  {
   "cell_type": "code",
   "execution_count": null,
   "metadata": {},
   "outputs": [],
   "source": []
  }
 ],
 "metadata": {
  "kernelspec": {
   "display_name": "Python 3",
   "language": "python",
   "name": "python3"
  },
  "language_info": {
   "codemirror_mode": {
    "name": "ipython",
    "version": 3
   },
   "file_extension": ".py",
   "mimetype": "text/x-python",
   "name": "python",
   "nbconvert_exporter": "python",
   "pygments_lexer": "ipython3",
   "version": "3.8.5"
  }
 },
 "nbformat": 4,
 "nbformat_minor": 4
}
